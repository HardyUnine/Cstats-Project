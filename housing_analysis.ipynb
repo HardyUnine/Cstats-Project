{
  "nbformat": 4,
  "nbformat_minor": 0,
  "metadata": {
    "colab": {
      "provenance": [],
      "include_colab_link": true
    },
    "kernelspec": {
      "name": "python3",
      "display_name": "Python 3"
    },
    "language_info": {
      "name": "python"
    }
  },
  "cells": [
    {
      "cell_type": "markdown",
      "metadata": {
        "id": "view-in-github",
        "colab_type": "text"
      },
      "source": [
        "<a href=\"https://colab.research.google.com/github/HardyUnine/Cstats-Project/blob/main/housing_analysis.ipynb\" target=\"_parent\"><img src=\"https://colab.research.google.com/assets/colab-badge.svg\" alt=\"Open In Colab\"/></a>"
      ]
    },
    {
      "cell_type": "code",
      "source": [
        "import pandas as pd\n",
        "\n",
        "na_counts = train[['OverallQual', 'YearBuilt', 'GrLivArea']].isnull().sum()\n",
        "print(na_counts)\n"
      ],
      "metadata": {
        "colab": {
          "base_uri": "https://localhost:8080/"
        },
        "id": "R61RrL8PEmP-",
        "outputId": "ca62b5f3-fafe-4ec4-c7b0-eeec3d9ca52a"
      },
      "execution_count": null,
      "outputs": [
        {
          "output_type": "stream",
          "name": "stdout",
          "text": [
            "OverallQual    0\n",
            "YearBuilt      0\n",
            "GrLivArea      0\n",
            "dtype: int64\n"
          ]
        }
      ]
    },
    {
      "cell_type": "code",
      "source": [
        "import pandas as pd\n",
        "import numpy as np\n",
        "from scipy import stats\n",
        "\n",
        "# Loading data\n",
        "train = pd.read_csv('train.csv')\n",
        "test = pd.read_csv('test.csv')\n",
        "\n",
        "# Summary\n",
        "mean_price = np.mean(train['SalePrice'])\n",
        "median_price = np.median(train['SalePrice'])\n",
        "std_price = np.std(train['SalePrice'])\n",
        "print(\"Mean SalePrice\", mean_price)\n",
        "print(\"Median SalePrice\", median_price)\n",
        "print(\"Std SalePrice\", std_price)\n",
        "\n",
        "# 95 CI for mean\n",
        "confidence_interval = stats.t.interval(\n",
        "    confidence=0.95,\n",
        "    df=len(train['SalePrice'])-1,\n",
        "    loc=mean_price,\n",
        "    scale=stats.sem(train['SalePrice'])\n",
        ")\n",
        "print(\"95% CI for mean SalePrice\", confidence_interval)\n",
        "\n",
        "# Correlation matrix for the 3 Values\n",
        "numeric_cols = ['OverallQual', 'YearBuilt', 'GrLivArea', 'SalePrice']\n",
        "\n",
        "corr_matrix = train[numeric_cols].corr()\n",
        "\n",
        "print(corr_matrix['SalePrice'])\n",
        "\n"
      ],
      "metadata": {
        "colab": {
          "base_uri": "https://localhost:8080/"
        },
        "id": "75dyXJPyepJS",
        "outputId": "066a6486-0891-4b74-a7ee-c8790404fbc4"
      },
      "execution_count": null,
      "outputs": [
        {
          "output_type": "stream",
          "name": "stdout",
          "text": [
            "Mean SalePrice 180921.19589041095\n",
            "Median SalePrice 163000.0\n",
            "Std SalePrice 79415.29188606751\n",
            "95% CI for mean SalePrice (np.float64(176842.84104108496), np.float64(184999.55073973694))\n",
            "OverallQual    0.790982\n",
            "YearBuilt      0.522897\n",
            "GrLivArea      0.708624\n",
            "SalePrice      1.000000\n",
            "Name: SalePrice, dtype: float64\n"
          ]
        }
      ]
    }
  ]
}